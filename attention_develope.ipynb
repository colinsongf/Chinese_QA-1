{
 "cells": [
  {
   "cell_type": "code",
   "execution_count": 1,
   "metadata": {},
   "outputs": [
    {
     "name": "stderr",
     "output_type": "stream",
     "text": [
      "Using TensorFlow backend.\n"
     ]
    }
   ],
   "source": [
    "import os\n",
    "import re\n",
    "\n",
    "import numpy as np\n",
    "\n",
    "from numpy import array\n",
    "from keras.models import Sequential , Model\n",
    "from keras.layers import Dense ,Input \n",
    "from keras.layers import TimeDistributed\n",
    "from keras.layers import LSTM\n",
    "from keras.layers import merge"
   ]
  },
  {
   "cell_type": "markdown",
   "metadata": {},
   "source": [
    "### TimeDistributed and return_sequence\n",
    "\n",
    "https://datascience.stackexchange.com/questions/10836/the-difference-between-dense-and-timedistributeddense-of-keras"
   ]
  },
  {
   "cell_type": "code",
   "execution_count": 2,
   "metadata": {},
   "outputs": [
    {
     "name": "stdout",
     "output_type": "stream",
     "text": [
      "_________________________________________________________________\n",
      "Layer (type)                 Output Shape              Param #   \n",
      "=================================================================\n",
      "input_1 (InputLayer)         (None, 5, 4)              0         \n",
      "_________________________________________________________________\n",
      "lstm_1 (LSTM)                (None, 3)                 96        \n",
      "=================================================================\n",
      "Total params: 96\n",
      "Trainable params: 96\n",
      "Non-trainable params: 0\n",
      "_________________________________________________________________\n"
     ]
    },
    {
     "data": {
      "text/plain": [
       "array([[ 0.38044807,  0.85386306,  0.37628984]], dtype=float32)"
      ]
     },
     "execution_count": 2,
     "metadata": {},
     "output_type": "execute_result"
    }
   ],
   "source": [
    "# prepare sequence\n",
    "length = 5\n",
    "seq = array([i/float(length) for i in range(length*4)])\n",
    "X = seq.reshape(-1, length, 4)\n",
    "y = seq.reshape(-1, length, 4)\n",
    "# define LSTM configuration\n",
    "n_neurons = 3#length\n",
    "\n",
    "x = Input(shape = (length,4))\n",
    "out = LSTM(n_neurons,  return_sequences=False,return_state=False)(x)\n",
    "#out = TimeDistributed(Dense(1))(out)\n",
    "model = Model(inputs=x , outputs=out)\n",
    "model.summary()\n",
    "\n",
    "model.predict(X)"
   ]
  },
  {
   "cell_type": "code",
   "execution_count": 3,
   "metadata": {},
   "outputs": [
    {
     "name": "stdout",
     "output_type": "stream",
     "text": [
      "_________________________________________________________________\n",
      "Layer (type)                 Output Shape              Param #   \n",
      "=================================================================\n",
      "input_2 (InputLayer)         (None, 5, 4)              0         \n",
      "_________________________________________________________________\n",
      "lstm_2 (LSTM)                (None, 5, 3)              96        \n",
      "=================================================================\n",
      "Total params: 96\n",
      "Trainable params: 96\n",
      "Non-trainable params: 0\n",
      "_________________________________________________________________\n"
     ]
    },
    {
     "data": {
      "text/plain": [
       "array([[[ 0.06427185, -0.0725867 ,  0.02028074],\n",
       "        [ 0.12223752, -0.14583044,  0.02891432],\n",
       "        [ 0.11952052, -0.14092228,  0.        ],\n",
       "        [ 0.08312379, -0.09177356,  0.        ],\n",
       "        [ 0.04013606, -0.03976355,  0.        ]]], dtype=float32)"
      ]
     },
     "execution_count": 3,
     "metadata": {},
     "output_type": "execute_result"
    }
   ],
   "source": [
    "# prepare sequence\n",
    "length = 5\n",
    "seq = array([i/float(length) for i in range(length*4)])\n",
    "X = seq.reshape(-1, length, 4)\n",
    "y = seq.reshape(-1, length, 4)\n",
    "# define LSTM configuration\n",
    "n_neurons = 3#length\n",
    "\n",
    "x = Input(shape = (length,4))\n",
    "out = LSTM(n_neurons,  return_sequences=True,return_state=False)(x)\n",
    "#out = TimeDistributed(Dense(1))(out)\n",
    "model = Model(inputs=x , outputs=out)\n",
    "model.summary()\n",
    "\n",
    "model.predict(X)"
   ]
  },
  {
   "cell_type": "code",
   "execution_count": 4,
   "metadata": {},
   "outputs": [
    {
     "name": "stdout",
     "output_type": "stream",
     "text": [
      "_________________________________________________________________\n",
      "Layer (type)                 Output Shape              Param #   \n",
      "=================================================================\n",
      "input_3 (InputLayer)         (None, 5, 4)              0         \n",
      "_________________________________________________________________\n",
      "lstm_3 (LSTM)                (None, 5, 3)              96        \n",
      "_________________________________________________________________\n",
      "time_distributed_1 (TimeDist (None, 5, 1)              4         \n",
      "=================================================================\n",
      "Total params: 100\n",
      "Trainable params: 100\n",
      "Non-trainable params: 0\n",
      "_________________________________________________________________\n"
     ]
    },
    {
     "data": {
      "text/plain": [
       "array([[[ 0.09903315],\n",
       "        [ 0.21050203],\n",
       "        [ 0.28685269],\n",
       "        [ 0.36754459],\n",
       "        [ 0.46470472]]], dtype=float32)"
      ]
     },
     "execution_count": 4,
     "metadata": {},
     "output_type": "execute_result"
    }
   ],
   "source": [
    "# prepare sequence\n",
    "length = 5\n",
    "seq = array([i/float(length) for i in range(length*4)])\n",
    "X = seq.reshape(-1, length, 4)\n",
    "y = seq.reshape(-1, length, 4)\n",
    "# define LSTM configuration\n",
    "n_neurons = 3#length\n",
    "\n",
    "x = Input(shape = (length,4))\n",
    "out = LSTM(n_neurons,  return_sequences=True,return_state=False)(x)\n",
    "out = TimeDistributed(Dense(1))(out)\n",
    "model = Model(inputs=x , outputs=out)\n",
    "model.summary()\n",
    "\n",
    "model.predict(X)"
   ]
  },
  {
   "cell_type": "code",
   "execution_count": 5,
   "metadata": {
    "scrolled": false
   },
   "outputs": [
    {
     "name": "stdout",
     "output_type": "stream",
     "text": [
      "_________________________________________________________________\n",
      "Layer (type)                 Output Shape              Param #   \n",
      "=================================================================\n",
      "input_4 (InputLayer)         (None, 5, 1)              0         \n",
      "_________________________________________________________________\n",
      "lambda_1 (Lambda)            (None, 5, 1)              0         \n",
      "=================================================================\n",
      "Total params: 0\n",
      "Trainable params: 0\n",
      "Non-trainable params: 0\n",
      "_________________________________________________________________\n",
      "[[[ 0.01165623]\n",
      "  [ 0.03168492]\n",
      "  [ 0.08612854]\n",
      "  [ 0.23412167]\n",
      "  [ 0.63640863]]]\n"
     ]
    }
   ],
   "source": [
    "from keras.layers import Lambda, Input\n",
    "from keras.models import Model\n",
    "#from keras.backend import softmax #無法設定axis\n",
    "from keras.activations import softmax #可設定axis\n",
    "import numpy as np\n",
    "\n",
    "inputo = Input(shape=(5,1))\n",
    "double = Lambda(lambda x: softmax(x , axis=1))(inputo)\n",
    "\n",
    "model = Model(inputs=[inputo], outputs=[double])\n",
    "model.compile(optimizer='sgd', loss='mse')\n",
    "model.summary()\n",
    "data = np.arange(5).reshape((-1,5,1))\n",
    "print(model.predict(data))"
   ]
  },
  {
   "cell_type": "code",
   "execution_count": 6,
   "metadata": {},
   "outputs": [
    {
     "data": {
      "text/plain": [
       "array([[[0],\n",
       "        [1],\n",
       "        [2],\n",
       "        [3],\n",
       "        [4]]])"
      ]
     },
     "execution_count": 6,
     "metadata": {},
     "output_type": "execute_result"
    }
   ],
   "source": [
    "data"
   ]
  },
  {
   "cell_type": "code",
   "execution_count": 7,
   "metadata": {},
   "outputs": [
    {
     "data": {
      "text/plain": [
       "array([ 0.01165623,  0.03168492,  0.08612854,  0.23412166,  0.63640865])"
      ]
     },
     "execution_count": 7,
     "metadata": {},
     "output_type": "execute_result"
    }
   ],
   "source": [
    "x = data.reshape(-1)    \n",
    "\n",
    "np.exp(x)/sum(np.exp(x))"
   ]
  },
  {
   "cell_type": "markdown",
   "metadata": {},
   "source": [
    "## Attention Layer"
   ]
  },
  {
   "cell_type": "code",
   "execution_count": 8,
   "metadata": {
    "scrolled": true
   },
   "outputs": [
    {
     "name": "stdout",
     "output_type": "stream",
     "text": [
      "____________________________________________________________________________________________________\n",
      "Layer (type)                     Output Shape          Param #     Connected to                     \n",
      "====================================================================================================\n",
      "input_5 (InputLayer)             (None, 2, 5)          0                                            \n",
      "____________________________________________________________________________________________________\n",
      "lstm_4 (LSTM)                    (None, 2, 10)         640         input_5[0][0]                    \n",
      "____________________________________________________________________________________________________\n",
      "time_distributed_2 (TimeDistribu (None, 2, 1)          10          lstm_4[0][0]                     \n",
      "____________________________________________________________________________________________________\n",
      "softmax (Lambda)                 (None, 2, 1)          0           time_distributed_2[0][0]         \n",
      "____________________________________________________________________________________________________\n",
      "multiply_1 (Multiply)            (None, 2, 10)         0           softmax[0][0]                    \n",
      "                                                                   lstm_4[0][0]                     \n",
      "____________________________________________________________________________________________________\n",
      "lstm_5 (LSTM)                    (None, 2, 5)          320         multiply_1[0][0]                 \n",
      "====================================================================================================\n",
      "Total params: 970\n",
      "Trainable params: 970\n",
      "Non-trainable params: 0\n",
      "____________________________________________________________________________________________________\n"
     ]
    }
   ],
   "source": [
    "from keras.layers import Multiply\n",
    "from keras.layers import Lambda, Input\n",
    "from keras.models import Model\n",
    "#from keras.backend import softmax #無法設定axis\n",
    "from keras.activations import softmax #可設定axis\n",
    "import numpy as np\n",
    "\n",
    "length=2\n",
    "my_input = Input(shape=(length,5))\n",
    "ls = LSTM(10,return_sequences=True)(my_input)\n",
    "\n",
    "td = TimeDistributed(Dense(1,activation='linear',use_bias=False))(ls)\n",
    "sm = Lambda(lambda x : softmax(x,axis=1) , name='softmax')(td)\n",
    "\n",
    "attn = Multiply()([sm,ls])\n",
    "\n",
    "out = LSTM(5,return_sequences=True)(attn)\n",
    "model = Model(inputs=[my_input] , outputs=[out])\n",
    "model.compile(loss = 'mse',optimizer='adam')\n",
    "model.summary()\n",
    "\n",
    "model_1 = Model(inputs=[my_input] , outputs=[ls])\n",
    "model_2 = Model(inputs=[my_input] , outputs=[sm])\n",
    "model_3 = Model(inputs=[my_input] , outputs=[attn])"
   ]
  },
  {
   "cell_type": "code",
   "execution_count": 9,
   "metadata": {
    "scrolled": false
   },
   "outputs": [
    {
     "data": {
      "text/plain": [
       "array([[[ 0.00945939, -0.00881535,  0.01615339, -0.00747715,  0.00801516],\n",
       "        [-0.00384565, -0.06710139,  0.05737033, -0.00500772,  0.03147374]]], dtype=float32)"
      ]
     },
     "execution_count": 9,
     "metadata": {},
     "output_type": "execute_result"
    }
   ],
   "source": [
    "x = np.arange(10).reshape((-1,length,5))\n",
    "y = x.reshape((-1))[::-1].reshape((-1,length,5))\n",
    "#model.fit(x,y,epochs=1000,verbose=0)\n",
    "model.predict(x,batch_size=1)"
   ]
  },
  {
   "cell_type": "code",
   "execution_count": 10,
   "metadata": {},
   "outputs": [
    {
     "data": {
      "text/plain": [
       "((1, 2, 10), (1, 2, 1), (1, 2, 10))"
      ]
     },
     "execution_count": 10,
     "metadata": {},
     "output_type": "execute_result"
    }
   ],
   "source": [
    "a1 = model_1.predict(x)\n",
    "a2 = model_2.predict(x)\n",
    "a3 = model_3.predict(x)\n",
    "\n",
    "a1.shape,a2.shape,a3.shape"
   ]
  },
  {
   "cell_type": "code",
   "execution_count": 11,
   "metadata": {},
   "outputs": [
    {
     "data": {
      "text/plain": [
       "True"
      ]
     },
     "execution_count": 11,
     "metadata": {},
     "output_type": "execute_result"
    }
   ],
   "source": [
    "(a1[0][1]*a2[0][1]==a3[0][1]).all()"
   ]
  },
  {
   "cell_type": "code",
   "execution_count": 12,
   "metadata": {},
   "outputs": [
    {
     "data": {
      "text/plain": [
       "48.120000000000005"
      ]
     },
     "execution_count": 12,
     "metadata": {},
     "output_type": "execute_result"
    }
   ],
   "source": [
    "120*0.802*0.5"
   ]
  }
 ],
 "metadata": {
  "kernelspec": {
   "display_name": "Python 3",
   "language": "python",
   "name": "python3"
  },
  "language_info": {
   "codemirror_mode": {
    "name": "ipython",
    "version": 3
   },
   "file_extension": ".py",
   "mimetype": "text/x-python",
   "name": "python",
   "nbconvert_exporter": "python",
   "pygments_lexer": "ipython3",
   "version": "3.5.2"
  }
 },
 "nbformat": 4,
 "nbformat_minor": 2
}
