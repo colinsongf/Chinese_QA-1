{
 "cells": [
  {
   "cell_type": "code",
   "execution_count": 1,
   "metadata": {},
   "outputs": [],
   "source": [
    "import os\n",
    "import re\n",
    "\n",
    "import numpy as np"
   ]
  },
  {
   "cell_type": "code",
   "execution_count": 3,
   "metadata": {},
   "outputs": [
    {
     "data": {
      "text/plain": [
       "True"
      ]
     },
     "execution_count": 3,
     "metadata": {},
     "output_type": "execute_result"
    }
   ],
   "source": [
    "os.path.exists('data')"
   ]
  },
  {
   "cell_type": "code",
   "execution_count": 2,
   "metadata": {},
   "outputs": [
    {
     "name": "stderr",
     "output_type": "stream",
     "text": [
      "Using TensorFlow backend.\n"
     ]
    }
   ],
   "source": [
    "from keras import backend as K\n",
    "from keras.layers import LSTM\n",
    "\n",
    "class AttentionLSTM(LSTM):\n",
    "    def __init__(self, output_dim, attention_vec, **kwargs):\n",
    "        self.attention_vec = attention_vec\n",
    "        super(AttentionLSTM, self).__init__(output_dim, **kwargs)\n",
    "\n",
    "    def build(self, input_shape):\n",
    "        super(AttentionLSTM, self).build(input_shape)\n",
    "\n",
    "        assert hasattr(self.attention_vec, '_keras_shape')\n",
    "        attention_dim = self.attention_vec._keras_shape[1]\n",
    "\n",
    "        self.U_a = self.inner_init((self.output_dim, self.output_dim),\n",
    "                                   name='{}_U_a'.format(self.name))\n",
    "        self.b_a = K.zeros((self.output_dim,), name='{}_b_a'.format(self.name))\n",
    "\n",
    "        self.U_m = self.inner_init((attention_dim, self.output_dim),\n",
    "                                   name='{}_U_m'.format(self.name))\n",
    "        self.b_m = K.zeros((self.output_dim,), name='{}_b_m'.format(self.name))\n",
    "\n",
    "        self.U_s = self.inner_init((self.output_dim, self.output_dim),\n",
    "                                   name='{}_U_s'.format(self.name))\n",
    "        self.b_s = K.zeros((self.output_dim,), name='{}_b_s'.format(self.name))\n",
    "\n",
    "        self.trainable_weights += [self.U_a, self.U_m, self.U_s,\n",
    "                                   self.b_a, self.b_m, self.b_s]\n",
    "\n",
    "        if self.initial_weights is not None:\n",
    "            self.set_weights(self.initial_weights)\n",
    "            del self.initial_weights\n",
    "\n",
    "    def step(self, x, states):\n",
    "        h, [h, c] = super(AttentionLSTM, self).step(x, states)\n",
    "        attention = states[4]\n",
    "\n",
    "        m = K.tanh(K.dot(h, self.U_a) + attention + self.b_a)\n",
    "        s = K.exp(K.dot(m, self.U_s) + self.b_s)\n",
    "        h = h * s\n",
    "\n",
    "        return h, [h, c]\n",
    "\n",
    "    def get_constants(self, x):\n",
    "        constants = super(AttentionLSTM, self).get_constants(x)\n",
    "        constants.append(K.dot(self.attention_vec, self.U_m) + self.b_m)\n",
    "        return constants\n",
    "\n",
    "\n"
   ]
  },
  {
   "cell_type": "code",
   "execution_count": 3,
   "metadata": {},
   "outputs": [],
   "source": [
    "from keras.models import Sequential\n"
   ]
  },
  {
   "cell_type": "code",
   "execution_count": 4,
   "metadata": {},
   "outputs": [
    {
     "ename": "TypeError",
     "evalue": "__init__() missing 2 required positional arguments: 'output_dim' and 'attention_vec'",
     "output_type": "error",
     "traceback": [
      "\u001b[0;31m---------------------------------------------------------------------------\u001b[0m",
      "\u001b[0;31mTypeError\u001b[0m                                 Traceback (most recent call last)",
      "\u001b[0;32m<ipython-input-4-c34c80abbf3a>\u001b[0m in \u001b[0;36m<module>\u001b[0;34m()\u001b[0m\n\u001b[1;32m      1\u001b[0m \u001b[0mmodel\u001b[0m\u001b[0;34m=\u001b[0m\u001b[0mSequential\u001b[0m\u001b[0;34m(\u001b[0m\u001b[0;34m)\u001b[0m\u001b[0;34m\u001b[0m\u001b[0m\n\u001b[0;32m----> 2\u001b[0;31m \u001b[0mmodel\u001b[0m\u001b[0;34m.\u001b[0m\u001b[0madd\u001b[0m\u001b[0;34m(\u001b[0m \u001b[0mAttentionLSTM\u001b[0m\u001b[0;34m(\u001b[0m\u001b[0munits\u001b[0m\u001b[0;34m=\u001b[0m\u001b[0;36m1\u001b[0m\u001b[0;34m)\u001b[0m\u001b[0;34m)\u001b[0m\u001b[0;34m\u001b[0m\u001b[0m\n\u001b[0m",
      "\u001b[0;31mTypeError\u001b[0m: __init__() missing 2 required positional arguments: 'output_dim' and 'attention_vec'"
     ]
    }
   ],
   "source": [
    "model=Sequential()\n",
    "model.add( AttentionLSTM(units=1))"
   ]
  }
 ],
 "metadata": {
  "kernelspec": {
   "display_name": "Python 3",
   "language": "python",
   "name": "python3"
  },
  "language_info": {
   "codemirror_mode": {
    "name": "ipython",
    "version": 3
   },
   "file_extension": ".py",
   "mimetype": "text/x-python",
   "name": "python",
   "nbconvert_exporter": "python",
   "pygments_lexer": "ipython3",
   "version": "3.5.2"
  }
 },
 "nbformat": 4,
 "nbformat_minor": 2
}
