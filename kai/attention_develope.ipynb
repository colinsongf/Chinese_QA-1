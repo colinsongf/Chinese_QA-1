{
 "cells": [
  {
   "cell_type": "code",
   "execution_count": 1,
   "metadata": {},
   "outputs": [
    {
     "name": "stderr",
     "output_type": "stream",
     "text": [
      "Using TensorFlow backend.\n"
     ]
    }
   ],
   "source": [
    "import os\n",
    "import re\n",
    "\n",
    "import numpy as np\n",
    "\n",
    "from numpy import array\n",
    "from keras.models import Sequential , Model\n",
    "from keras.layers import Dense ,Input \n",
    "from keras.layers import TimeDistributed\n",
    "from keras.layers import LSTM\n",
    "from keras.layers import merge,Dot,Reshape,RepeatVector"
   ]
  },
  {
   "cell_type": "markdown",
   "metadata": {},
   "source": [
    "### TimeDistributed and return_sequence\n",
    "\n",
    "https://datascience.stackexchange.com/questions/10836/the-difference-between-dense-and-timedistributeddense-of-keras"
   ]
  },
  {
   "cell_type": "code",
   "execution_count": 9,
   "metadata": {},
   "outputs": [
    {
     "name": "stdout",
     "output_type": "stream",
     "text": [
      "_________________________________________________________________\n",
      "Layer (type)                 Output Shape              Param #   \n",
      "=================================================================\n",
      "input_6 (InputLayer)         (None, 5, 4)              0         \n",
      "_________________________________________________________________\n",
      "lstm_7 (LSTM)                (None, 3)                 96        \n",
      "_________________________________________________________________\n",
      "reshape_1 (Reshape)          (None, 1, 3)              0         \n",
      "=================================================================\n",
      "Total params: 96\n",
      "Trainable params: 96\n",
      "Non-trainable params: 0\n",
      "_________________________________________________________________\n"
     ]
    },
    {
     "data": {
      "text/plain": [
       "array([[[ 0.27481663, -0.85328579, -0.2766172 ]]], dtype=float32)"
      ]
     },
     "execution_count": 9,
     "metadata": {},
     "output_type": "execute_result"
    }
   ],
   "source": [
    "# prepare sequence\n",
    "length = 5\n",
    "seq = array([i/float(length) for i in range(length*4)])\n",
    "X = seq.reshape(-1, length, 4)\n",
    "y = seq.reshape(-1, length, 4)\n",
    "# define LSTM configuration\n",
    "n_neurons = 3#length\n",
    "\n",
    "x = Input(shape = (length,4))\n",
    "out = LSTM(n_neurons,  return_sequences=False,return_state=False)(x)\n",
    "out = Reshape((1,3),input_shape=(3,))(out)\n",
    "#out = TimeDistributed(Dense(1))(out)\n",
    "model = Model(inputs=x , outputs=out)\n",
    "model.summary()\n",
    "\n",
    "model.predict(X)"
   ]
  },
  {
   "cell_type": "code",
   "execution_count": 4,
   "metadata": {},
   "outputs": [
    {
     "name": "stdout",
     "output_type": "stream",
     "text": [
      "_________________________________________________________________\n",
      "Layer (type)                 Output Shape              Param #   \n",
      "=================================================================\n",
      "input_2 (InputLayer)         (None, 5, 4)              0         \n",
      "_________________________________________________________________\n",
      "lstm_3 (LSTM)                (None, 3)                 96        \n",
      "=================================================================\n",
      "Total params: 96\n",
      "Trainable params: 96\n",
      "Non-trainable params: 0\n",
      "_________________________________________________________________\n"
     ]
    },
    {
     "data": {
      "text/plain": [
       "array([[-0.        ,  0.50033331, -0.78666264]], dtype=float32)"
      ]
     },
     "execution_count": 4,
     "metadata": {},
     "output_type": "execute_result"
    }
   ],
   "source": [
    "# prepare sequence\n",
    "length = 5\n",
    "seq = array([i/float(length) for i in range(length*4)])\n",
    "X = seq.reshape(-1, length, 4)\n",
    "y = seq.reshape(-1, length, 4)\n",
    "# define LSTM configuration\n",
    "n_neurons = 3#length\n",
    "\n",
    "x = Input(shape = (length,4))\n",
    "out = LSTM(n_neurons,  return_sequences=False,return_state=False)(x)\n",
    "#out = TimeDistributed(Dense(1))(out)\n",
    "model = Model(inputs=x , outputs=out)\n",
    "model.summary()\n",
    "\n",
    "model.predict(X)"
   ]
  },
  {
   "cell_type": "code",
   "execution_count": 4,
   "metadata": {},
   "outputs": [
    {
     "name": "stdout",
     "output_type": "stream",
     "text": [
      "_________________________________________________________________\n",
      "Layer (type)                 Output Shape              Param #   \n",
      "=================================================================\n",
      "input_3 (InputLayer)         (None, 5, 4)              0         \n",
      "_________________________________________________________________\n",
      "lstm_3 (LSTM)                (None, 5, 3)              96        \n",
      "_________________________________________________________________\n",
      "time_distributed_1 (TimeDist (None, 5, 1)              4         \n",
      "=================================================================\n",
      "Total params: 100\n",
      "Trainable params: 100\n",
      "Non-trainable params: 0\n",
      "_________________________________________________________________\n"
     ]
    },
    {
     "data": {
      "text/plain": [
       "array([[[ 0.09903315],\n",
       "        [ 0.21050203],\n",
       "        [ 0.28685269],\n",
       "        [ 0.36754459],\n",
       "        [ 0.46470472]]], dtype=float32)"
      ]
     },
     "execution_count": 4,
     "metadata": {},
     "output_type": "execute_result"
    }
   ],
   "source": [
    "# prepare sequence\n",
    "length = 5\n",
    "seq = array([i/float(length) for i in range(length*4)])\n",
    "X = seq.reshape(-1, length, 4)\n",
    "y = seq.reshape(-1, length, 4)\n",
    "# define LSTM configuration\n",
    "n_neurons = 3#length\n",
    "\n",
    "x = Input(shape = (length,4))\n",
    "out = LSTM(n_neurons,  return_sequences=True,return_state=False)(x)\n",
    "out = TimeDistributed(Dense(1))(out)\n",
    "model = Model(inputs=x , outputs=out)\n",
    "model.summary()\n",
    "\n",
    "model.predict(X)"
   ]
  },
  {
   "cell_type": "code",
   "execution_count": 5,
   "metadata": {
    "scrolled": false
   },
   "outputs": [
    {
     "name": "stdout",
     "output_type": "stream",
     "text": [
      "_________________________________________________________________\n",
      "Layer (type)                 Output Shape              Param #   \n",
      "=================================================================\n",
      "input_4 (InputLayer)         (None, 5, 1)              0         \n",
      "_________________________________________________________________\n",
      "lambda_1 (Lambda)            (None, 5, 1)              0         \n",
      "=================================================================\n",
      "Total params: 0\n",
      "Trainable params: 0\n",
      "Non-trainable params: 0\n",
      "_________________________________________________________________\n",
      "[[[ 0.01165623]\n",
      "  [ 0.03168492]\n",
      "  [ 0.08612854]\n",
      "  [ 0.23412167]\n",
      "  [ 0.63640863]]]\n"
     ]
    }
   ],
   "source": [
    "from keras.layers import Lambda, Input\n",
    "from keras.models import Model\n",
    "#from keras.backend import softmax #無法設定axis\n",
    "from keras.activations import softmax #可設定axis\n",
    "import numpy as np\n",
    "\n",
    "inputo = Input(shape=(5,1))\n",
    "double = Lambda(lambda x: softmax(x , axis=1))(inputo)\n",
    "\n",
    "model = Model(inputs=[inputo], outputs=[double])\n",
    "model.compile(optimizer='sgd', loss='mse')\n",
    "model.summary()\n",
    "data = np.arange(5).reshape((-1,5,1))\n",
    "print(model.predict(data))"
   ]
  },
  {
   "cell_type": "code",
   "execution_count": 6,
   "metadata": {},
   "outputs": [
    {
     "data": {
      "text/plain": [
       "array([[[0],\n",
       "        [1],\n",
       "        [2],\n",
       "        [3],\n",
       "        [4]]])"
      ]
     },
     "execution_count": 6,
     "metadata": {},
     "output_type": "execute_result"
    }
   ],
   "source": [
    "data"
   ]
  },
  {
   "cell_type": "code",
   "execution_count": 7,
   "metadata": {},
   "outputs": [
    {
     "data": {
      "text/plain": [
       "array([ 0.01165623,  0.03168492,  0.08612854,  0.23412166,  0.63640865])"
      ]
     },
     "execution_count": 7,
     "metadata": {},
     "output_type": "execute_result"
    }
   ],
   "source": [
    "x = data.reshape(-1)    \n",
    "\n",
    "np.exp(x)/sum(np.exp(x))"
   ]
  },
  {
   "cell_type": "markdown",
   "metadata": {},
   "source": [
    "## Attention Layer"
   ]
  },
  {
   "cell_type": "code",
   "execution_count": 7,
   "metadata": {
    "scrolled": true
   },
   "outputs": [
    {
     "name": "stdout",
     "output_type": "stream",
     "text": [
      "____________________________________________________________________________________________________\n",
      "Layer (type)                     Output Shape          Param #     Connected to                     \n",
      "====================================================================================================\n",
      "input_6 (InputLayer)             (None, 2, 5)          0                                            \n",
      "____________________________________________________________________________________________________\n",
      "lstm_10 (LSTM)                   (None, 2, 10)         640         input_6[0][0]                    \n",
      "____________________________________________________________________________________________________\n",
      "time_distributed_11 (TimeDistrib (None, 2, 1)          10          lstm_10[0][0]                    \n",
      "____________________________________________________________________________________________________\n",
      "softmax (Lambda)                 (None, 2, 1)          0           time_distributed_11[0][0]        \n",
      "____________________________________________________________________________________________________\n",
      "multiply_11 (Multiply)           (None, 2, 10)         0           softmax[0][0]                    \n",
      "                                                                   lstm_10[0][0]                    \n",
      "____________________________________________________________________________________________________\n",
      "hi (LSTM)                        (None, 2, 5)          320         multiply_11[0][0]                \n",
      "====================================================================================================\n",
      "Total params: 970\n",
      "Trainable params: 970\n",
      "Non-trainable params: 0\n",
      "____________________________________________________________________________________________________\n"
     ]
    }
   ],
   "source": [
    "from keras.layers import Multiply\n",
    "from keras.layers import Lambda, Input\n",
    "from keras.models import Model\n",
    "#from keras.backend import softmax #無法設定axis\n",
    "from keras.activations import softmax #可設定axis\n",
    "import numpy as np\n",
    "\n",
    "length=2\n",
    "my_input = Input(shape=(length,5))\n",
    "ls = LSTM(10,return_sequences=True)(my_input)\n",
    "\n",
    "td = TimeDistributed(Dense(1,activation='linear',use_bias=False))(ls)\n",
    "sm = Lambda(lambda x : softmax(x,axis=1) , name='softmax')(td)\n",
    "\n",
    "attn = Multiply()([sm,ls])\n",
    "\n",
    "out = LSTM(5,return_sequences=True,name=\"hi\")(attn)\n",
    "\n",
    "dot_out = Multiply()([out,my_input])\n",
    "dot_out = TimeDistributed(Dense(1,activation='linear',kernel_initializer='ones',use_bias=False,trainable=False))(dot_out)\n",
    "\n",
    "model = Model(inputs=[my_input] , outputs=[out])\n",
    "model.compile(loss = 'mse',optimizer='adam')\n",
    "model.summary()\n",
    "\n",
    "model_1 = Model(inputs=[my_input] , outputs=[ls])\n",
    "model_2 = Model(inputs=[my_input] , outputs=[sm])\n",
    "model_3 = Model(inputs=[my_input] , outputs=[attn])\n",
    "model_4 = Model(inputs=[my_input] , outputs=[dot_out])"
   ]
  },
  {
   "cell_type": "code",
   "execution_count": 17,
   "metadata": {
    "scrolled": false
   },
   "outputs": [
    {
     "data": {
      "text/plain": [
       "array([[[ 0.00140486,  0.00721304,  0.00440872,  0.00188392, -0.00086394],\n",
       "        [-0.00080154,  0.01967781,  0.00544048, -0.0004214 , -0.00863076]]], dtype=float32)"
      ]
     },
     "execution_count": 17,
     "metadata": {},
     "output_type": "execute_result"
    }
   ],
   "source": [
    "x = np.arange(10).reshape((-1,length,5))/10\n",
    "y = x.reshape((-1))[::-1].reshape((-1,length,5))\n",
    "#model.fit(x,y,epochs=1000,verbose=0)\n",
    "model.predict(x,batch_size=1)"
   ]
  },
  {
   "cell_type": "code",
   "execution_count": 18,
   "metadata": {},
   "outputs": [
    {
     "name": "stdout",
     "output_type": "stream",
     "text": [
      "Epoch 1/10\n",
      "1/1 [==============================] - 0s - loss: 0.2816 - mean_squared_error: 0.2816\n",
      "Epoch 2/10\n",
      "1/1 [==============================] - 0s - loss: 0.2813 - mean_squared_error: 0.2813\n",
      "Epoch 3/10\n",
      "1/1 [==============================] - 0s - loss: 0.2809 - mean_squared_error: 0.2809\n",
      "Epoch 4/10\n",
      "1/1 [==============================] - 0s - loss: 0.2806 - mean_squared_error: 0.2806\n",
      "Epoch 5/10\n",
      "1/1 [==============================] - 0s - loss: 0.2802 - mean_squared_error: 0.2802\n",
      "Epoch 6/10\n",
      "1/1 [==============================] - 0s - loss: 0.2798 - mean_squared_error: 0.2798\n",
      "Epoch 7/10\n",
      "1/1 [==============================] - 0s - loss: 0.2795 - mean_squared_error: 0.2795\n",
      "Epoch 8/10\n",
      "1/1 [==============================] - 0s - loss: 0.2791 - mean_squared_error: 0.2791\n",
      "Epoch 9/10\n",
      "1/1 [==============================] - 0s - loss: 0.2787 - mean_squared_error: 0.2787\n",
      "Epoch 10/10\n",
      "1/1 [==============================] - 0s - loss: 0.2783 - mean_squared_error: 0.2783\n"
     ]
    },
    {
     "data": {
      "text/plain": [
       "<keras.callbacks.History at 0x7fa9b0d09588>"
      ]
     },
     "execution_count": 18,
     "metadata": {},
     "output_type": "execute_result"
    }
   ],
   "source": [
    "model.compile(loss='mse',metrics=['mse'],optimizer='adam')\n",
    "model.fit(x,y,epochs=10)"
   ]
  },
  {
   "cell_type": "code",
   "execution_count": 10,
   "metadata": {},
   "outputs": [
    {
     "data": {
      "text/plain": [
       "((1, 2, 10), (1, 2, 1), (1, 2, 10))"
      ]
     },
     "execution_count": 10,
     "metadata": {},
     "output_type": "execute_result"
    }
   ],
   "source": [
    "a1 = model_1.predict(x)\n",
    "a2 = model_2.predict(x)\n",
    "a3 = model_3.predict(x)\n",
    "\n",
    "a1.shape,a2.shape,a3.shape"
   ]
  },
  {
   "cell_type": "code",
   "execution_count": 11,
   "metadata": {},
   "outputs": [
    {
     "data": {
      "text/plain": [
       "True"
      ]
     },
     "execution_count": 11,
     "metadata": {},
     "output_type": "execute_result"
    }
   ],
   "source": [
    "(a1[0][1]*a2[0][1]==a3[0][1]).all()"
   ]
  },
  {
   "cell_type": "code",
   "execution_count": 30,
   "metadata": {
    "scrolled": true
   },
   "outputs": [
    {
     "name": "stdout",
     "output_type": "stream",
     "text": [
      "____________________________________________________________________________________________________\n",
      "Layer (type)                     Output Shape          Param #     Connected to                     \n",
      "====================================================================================================\n",
      "input_22 (InputLayer)            (None, 1, 5)          0                                            \n",
      "____________________________________________________________________________________________________\n",
      "input_21 (InputLayer)            (None, 1, 5)          0                                            \n",
      "____________________________________________________________________________________________________\n",
      "multiply_21 (Multiply)           (None, 1, 5)          0           input_22[0][0]                   \n",
      "                                                                   input_21[0][0]                   \n",
      "____________________________________________________________________________________________________\n",
      "time_distributed_21 (TimeDistrib (None, 1, 1)          5           multiply_21[0][0]                \n",
      "====================================================================================================\n",
      "Total params: 5\n",
      "Trainable params: 0\n",
      "Non-trainable params: 5\n",
      "____________________________________________________________________________________________________\n"
     ]
    }
   ],
   "source": [
    "## dot product\n",
    "\n",
    "my_input = Input(shape = (1,5))\n",
    "out = Input(shape = (1,5))\n",
    "\n",
    "dot_out = Multiply()([out,my_input])\n",
    "dot_out = TimeDistributed(Dense(1,activation='linear',kernel_initializer='ones',use_bias=False,trainable=False))(dot_out)\n",
    "\n",
    "model_4=Model(inputs=[my_input,out],outputs=[dot_out])\n",
    "model_4.summary()"
   ]
  },
  {
   "cell_type": "code",
   "execution_count": 33,
   "metadata": {},
   "outputs": [
    {
     "data": {
      "text/plain": [
       "array([[[ 17.]]], dtype=float32)"
      ]
     },
     "execution_count": 33,
     "metadata": {},
     "output_type": "execute_result"
    }
   ],
   "source": [
    "x1 = np.array([[1,2,3,4,5]]).reshape((1,1,5))\n",
    "x2 = np.array([[1,2,1,1,1]]).reshape((1,1,5))\n",
    "model_4.predict([x1,x2])"
   ]
  }
 ],
 "metadata": {
  "kernelspec": {
   "display_name": "Python 3",
   "language": "python",
   "name": "python3"
  },
  "language_info": {
   "codemirror_mode": {
    "name": "ipython",
    "version": 3
   },
   "file_extension": ".py",
   "mimetype": "text/x-python",
   "name": "python",
   "nbconvert_exporter": "python",
   "pygments_lexer": "ipython3",
   "version": "3.5.2"
  }
 },
 "nbformat": 4,
 "nbformat_minor": 2
}
